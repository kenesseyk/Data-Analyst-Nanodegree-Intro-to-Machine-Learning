{
 "cells": [
  {
   "cell_type": "markdown",
   "metadata": {},
   "source": [
    "## Enron Submission Responses\n",
    "\n",
    "Here I've created few paragraph responses as requested, but of course during the completition of the project I've answerd these question more in detail which can be found in the Summary_Enron_project notebook.  \n",
    "\n",
    "#### Summarize for us the goal of this project and how machine learning is useful in trying to accomplish it. As part of your answer, give some background on the dataset and how it can be used to answer the project question. Were there any outliers in the data when you got it, and how did you handle those?  [relevant rubric items: “data exploration”, “outlier investigation”]\n",
    "\n",
    "During this project our target is to build a person of interest identifier based on the Enron email and financial data. In order to identify Persons of Interest(POI) we are going to use Machine Learning, so engineer the features, pick and tune an algorithms, and to test and evaluate the created identifier. Enron was one of the largest companies, but in 2 years collapsed into bankruptcy as a result of fraudulent accounting practices and in our dataset we have financial data and emails. Outliers I've found in both feature categories: the financial ones I've removed, while the e-mail-related ones I've kept.\n",
    "\n",
    "\n",
    "#### What features did you end up using in your POI identifier, and what selection process did you use to pick them? Did you have to do any scaling? Why or why not? As part of the assignment, you should attempt to engineer your own feature that does not come ready-made in the dataset -- explain what feature you tried to make, and the rationale behind it. (You do not necessarily have to use it in the final analysis, only engineer and test it.) In your feature selection step, if you used an algorithm like a decision tree, please also give the feature importances of the features that you use, and if you used an automated feature selection function like SelectKBest, please report the feature scores and reasons for your choice of parameter values.  [relevant rubric items: “create new features”, “intelligently select features”, “properly scale features”]\n",
    "I've created several fraction-based new features, but during the algorithm testing none of them showed up as a top influencer.\n",
    "I've tested 4 Machine Learning algorithms (Support Vector Machines, Decision Tree Classifier, K-Neighbors Classifier and Naive Bayer) with several parameters in order to find best solution. For the feature selection I've used the SelectKBest method. For feature scaling I've used MinMaxScaler and StandardScaler. Sklearn's Gridsearch and Pipeline models were helpful during the algorithm optimalization with setting different parameters.\n",
    "\n",
    "\n",
    "#### What algorithm did you end up using? What other one(s) did you try? How did model performance differ between algorithms?  [relevant rubric item: “pick an algorithm”]\n",
    "From the 4 algorithms I've used SVM with several tuned parameters.\n",
    "\n",
    "\n",
    "#### What does it mean to tune the parameters of an algorithm, and what can happen if you don’t do this well?  How did you tune the parameters of your particular algorithm? What parameters did you tune? (Some algorithms do not have parameters that you need to tune -- if this is the case for the one you picked, identify and briefly explain how you would have done it for the model that was not your final choice or a different model that does utilize parameter tuning, e.g. a decision tree classifier).  [relevant rubric items: “discuss parameter tuning”, “tune the algorithm”]\n",
    "As we've tested several machine learning algorithms we had the opportunity to increase our models performance via tuning our parameters. Based on the GridSearch results, the following SVM algorithm parameters are used in the final model:C penalty parameter = 1000, gamma kernel coefficient = 0.1, degree of the poly kernel = 2 and kernel type'poly'.\n",
    "\n",
    "\n",
    "#### What is validation, and what’s a classic mistake you can make if you do it wrong? How did you validate your analysis?  [relevant rubric items: “discuss validation”, “validation strategy”]\n",
    "The classic mistake would be if I wouldn't have stopped with the model evaluation on the same data that we trained our algorithms, which could cause extremely good results, but it would fail on other data.  To avoid it we shall hold out part of the available data as a test set for validation. I've used StratifiedShuffleSplit which made sure that different train-test splits have the balance of the data. \n",
    "\n",
    "\n",
    "#### Give at least 2 evaluation metrics and your average performance for each of them.  Explain an interpretation of your metrics that says something human-understandable about your algorithm’s performance. [relevant rubric item: “usage of evaluation metrics”]\n",
    "The precision and recall metrics are useful to evaluate classifier output quality so to measure of success of prediction. High scores for both show that the classifier is returning accurate results (high precision), as well as returning a majority of all positive results (high recall). In the final algoriht I'd found a precision of 0.37, which means that out of 100 identified POIs are only 37 real POIs and the 0.32 recall means we that if there were 100 true POIs in the dataset, the SVM would only identify 32 of them."
   ]
  }
 ],
 "metadata": {
  "kernelspec": {
   "display_name": "Python 2",
   "language": "python",
   "name": "python2"
  },
  "language_info": {
   "codemirror_mode": {
    "name": "ipython",
    "version": 2
   },
   "file_extension": ".py",
   "mimetype": "text/x-python",
   "name": "python",
   "nbconvert_exporter": "python",
   "pygments_lexer": "ipython2",
   "version": "2.7.14"
  }
 },
 "nbformat": 4,
 "nbformat_minor": 2
}
